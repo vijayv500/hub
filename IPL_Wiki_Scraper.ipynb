{
 "cells": [
  {
   "cell_type": "code",
   "execution_count": 395,
   "id": "55b20ed8",
   "metadata": {},
   "outputs": [],
   "source": [
    "import pandas as pd\n",
    "from bs4 import BeautifulSoup\n",
    "from urllib.request import urlopen,Request\n",
    "import re\n",
    "\n",
    "headers = ({'User-Agent':'Mozilla/5.0 (Macintosh; Intel Mac OS X 11_5_2) AppleWebKit/605.1.15 (KHTML, like Gecko) Version/14.1.2 Safari/605.1.15'})"
   ]
  },
  {
   "cell_type": "code",
   "execution_count": 396,
   "id": "7a732a68",
   "metadata": {},
   "outputs": [],
   "source": [
    "url = 'https://en.wikipedia.org/wiki/Indian_Premier_League'\n",
    "\n",
    "request = Request(url, headers=headers)\n",
    "response = urlopen(request)\n",
    "\n",
    "html = response.read()\n",
    "html_soup = BeautifulSoup(html ,'html.parser')\n",
    "\n",
    "paras = html_soup.find_all('p') #returns a list of paragraphs from the above page"
   ]
  },
  {
   "cell_type": "code",
   "execution_count": 397,
   "id": "2d19ab15",
   "metadata": {},
   "outputs": [
    {
     "data": {
      "text/plain": [
       "46"
      ]
     },
     "execution_count": 397,
     "metadata": {},
     "output_type": "execute_result"
    }
   ],
   "source": [
    "len(paras)"
   ]
  },
  {
   "cell_type": "markdown",
   "id": "792b9cd8",
   "metadata": {},
   "source": [
    "# Extracting 'Background' & 'Foundation' sections "
   ]
  },
  {
   "cell_type": "markdown",
   "id": "094a776c",
   "metadata": {},
   "source": [
    "### Background"
   ]
  },
  {
   "cell_type": "code",
   "execution_count": 398,
   "id": "b0856e95",
   "metadata": {},
   "outputs": [
    {
     "data": {
      "text/plain": [
       "'The Indian Cricket League (ICL) was founded in 2007, with funding provided by Zee Entertainment Enterprises.[13] The ICL was not recognised by the Board of Control for Cricket in India (BCCI) or the International Cricket Council (ICC) and the BCCI were not pleased with its committee members joining the ICL executive board.[14] To prevent players from joining the ICL, the BCCI increased the prize money in their own domestic tournaments and also imposed lifetime bans on players joining the ICL, which was considered a rebel league by the board.[15][16]\\n'"
      ]
     },
     "execution_count": 398,
     "metadata": {},
     "output_type": "execute_result"
    }
   ],
   "source": [
    "background = paras[4].text #Extracting 'Background' section from the 'paras' list\n",
    "background"
   ]
  },
  {
   "cell_type": "code",
   "execution_count": 399,
   "id": "8e5a1386",
   "metadata": {},
   "outputs": [
    {
     "data": {
      "text/plain": [
       "'The Indian Cricket League (ICL) was founded in 2007, with funding provided by Zee Entertainment Enterprises. The ICL was not recognised by the Board of Control for Cricket in India (BCCI) or the International Cricket Council (ICC) and the BCCI were not pleased with its committee members joining the ICL executive board. To prevent players from joining the ICL, the BCCI increased the prize money in their own domestic tournaments and also imposed lifetime bans on players joining the ICL, which was considered a rebel league by the board.'"
      ]
     },
     "execution_count": 399,
     "metadata": {},
     "output_type": "execute_result"
    }
   ],
   "source": [
    "#PREPROCESSING TEXT \n",
    "\n",
    "background = background.replace('\\n','') #Getting rid of next line characters\n",
    "background = re.sub(r'\\[\\d+\\]', '', background) #Getting rid of citation numbers\n",
    "background"
   ]
  },
  {
   "cell_type": "markdown",
   "id": "b6db5286",
   "metadata": {},
   "source": [
    "### Foundation"
   ]
  },
  {
   "cell_type": "code",
   "execution_count": 400,
   "id": "9e5499c6",
   "metadata": {},
   "outputs": [
    {
     "data": {
      "text/plain": [
       "'On 13 September 2007,[17] on the back of India\\'s victory at the 2007 T20 World Cup,[18] BCCI announced a franchise-based Twenty20 cricket competition called Indian Premier League. The first season was slated to start in April 2008, in a \"high-profile ceremony\" in New Delhi. BCCI vice-president Lalit Modi, who spearheaded the IPL effort, spelled out the details of the tournament including its format, the prize money, franchise revenue system and squad composition rules. It was also revealed that the IPL would be run by a seven-man governing council composed of former India players and BCCI officials and that the top two teams of the IPL would qualify for that year\\'s Champions League Twenty20. Modi also clarified that they had been working on the idea for two years and that the IPL was not started as a \"knee-jerk reaction\" to the ICL.[17] The league\\'s format was similar to that of the Premier League of England and the NBA in the United States.[16]\\n'"
      ]
     },
     "execution_count": 400,
     "metadata": {},
     "output_type": "execute_result"
    }
   ],
   "source": [
    "foundation = paras[7].text #Extracting 'Foundation' section\n",
    "foundation"
   ]
  },
  {
   "cell_type": "code",
   "execution_count": 401,
   "id": "f125fedf",
   "metadata": {},
   "outputs": [
    {
     "data": {
      "text/plain": [
       "'On 13 September 2007, on the back of India\\'s victory at the 2007 T20 World Cup, BCCI announced a franchise-based Twenty20 cricket competition called Indian Premier League. The first season was slated to start in April 2008, in a \"high-profile ceremony\" in New Delhi. BCCI vice-president Lalit Modi, who spearheaded the IPL effort, spelled out the details of the tournament including its format, the prize money, franchise revenue system and squad composition rules. It was also revealed that the IPL would be run by a seven-man governing council composed of former India players and BCCI officials and that the top two teams of the IPL would qualify for that year\\'s Champions League Twenty20. Modi also clarified that they had been working on the idea for two years and that the IPL was not started as a \"knee-jerk reaction\" to the ICL. The league\\'s format was similar to that of the Premier League of England and the NBA in the United States.'"
      ]
     },
     "execution_count": 401,
     "metadata": {},
     "output_type": "execute_result"
    }
   ],
   "source": [
    "#PREPROCESSING TEXT \n",
    "\n",
    "foundation = foundation.replace('\\n', '') #Getting rid of next line characters\n",
    "foundation = re.sub(r'\\[\\d+\\]', '', foundation) #Getting rid of citation numbers\n",
    "foundation"
   ]
  },
  {
   "cell_type": "markdown",
   "id": "9871fb4c",
   "metadata": {},
   "source": [
    "# No. of Words"
   ]
  },
  {
   "cell_type": "code",
   "execution_count": 402,
   "id": "89c03455",
   "metadata": {},
   "outputs": [],
   "source": [
    "#creating a method to count the no. of words\n",
    "\n",
    "def no_of_words(title):\n",
    "    n = len(title.split())\n",
    "    return n"
   ]
  },
  {
   "cell_type": "code",
   "execution_count": 403,
   "id": "ae83cfe6",
   "metadata": {},
   "outputs": [
    {
     "data": {
      "text/plain": [
       "89"
      ]
     },
     "execution_count": 403,
     "metadata": {},
     "output_type": "execute_result"
    }
   ],
   "source": [
    "no_of_words(background) #No. of words for Background section is 89"
   ]
  },
  {
   "cell_type": "code",
   "execution_count": 404,
   "id": "48633574",
   "metadata": {},
   "outputs": [
    {
     "data": {
      "text/plain": [
       "161"
      ]
     },
     "execution_count": 404,
     "metadata": {},
     "output_type": "execute_result"
    }
   ],
   "source": [
    "no_of_words(foundation) #No. of words for Foundation section is 161"
   ]
  },
  {
   "cell_type": "markdown",
   "id": "310b6eda",
   "metadata": {},
   "source": [
    "# No. of Sentences"
   ]
  },
  {
   "cell_type": "code",
   "execution_count": 405,
   "id": "8140ef8f",
   "metadata": {},
   "outputs": [],
   "source": [
    "#creating a method to count the no. of sentences\n",
    "\n",
    "def no_of_sentences(title):\n",
    "    n = len(title.split('.'))\n",
    "    return n-1"
   ]
  },
  {
   "cell_type": "code",
   "execution_count": 406,
   "id": "7863fa16",
   "metadata": {},
   "outputs": [
    {
     "data": {
      "text/plain": [
       "3"
      ]
     },
     "execution_count": 406,
     "metadata": {},
     "output_type": "execute_result"
    }
   ],
   "source": [
    "no_of_sentences(background) #No. of sentences for Background section is 3"
   ]
  },
  {
   "cell_type": "code",
   "execution_count": 407,
   "id": "af924923",
   "metadata": {},
   "outputs": [
    {
     "data": {
      "text/plain": [
       "6"
      ]
     },
     "execution_count": 407,
     "metadata": {},
     "output_type": "execute_result"
    }
   ],
   "source": [
    "no_of_sentences(foundation) #No. of sentences for Foundation section is 6"
   ]
  },
  {
   "cell_type": "markdown",
   "id": "ba71d52a",
   "metadata": {},
   "source": [
    "###### ."
   ]
  },
  {
   "cell_type": "markdown",
   "id": "a95293f3",
   "metadata": {},
   "source": [
    "# Extracting Winning Team Names "
   ]
  },
  {
   "cell_type": "code",
   "execution_count": 408,
   "id": "fa1af77b",
   "metadata": {},
   "outputs": [
    {
     "data": {
      "text/html": [
       "<div>\n",
       "<style scoped>\n",
       "    .dataframe tbody tr th:only-of-type {\n",
       "        vertical-align: middle;\n",
       "    }\n",
       "\n",
       "    .dataframe tbody tr th {\n",
       "        vertical-align: top;\n",
       "    }\n",
       "\n",
       "    .dataframe thead tr th {\n",
       "        text-align: left;\n",
       "    }\n",
       "</style>\n",
       "<table border=\"1\" class=\"dataframe\">\n",
       "  <thead>\n",
       "    <tr>\n",
       "      <th></th>\n",
       "      <th>Season</th>\n",
       "      <th colspan=\"5\" halign=\"left\">Final</th>\n",
       "      <th>Final venue</th>\n",
       "      <th>No. ofteams</th>\n",
       "      <th>Player of the series</th>\n",
       "    </tr>\n",
       "    <tr>\n",
       "      <th></th>\n",
       "      <th>Season</th>\n",
       "      <th>Winner</th>\n",
       "      <th>Winner.1</th>\n",
       "      <th>Winning margin</th>\n",
       "      <th>Runner-up</th>\n",
       "      <th>Runner-up.1</th>\n",
       "      <th>Final venue</th>\n",
       "      <th>No. ofteams</th>\n",
       "      <th>Player of the series</th>\n",
       "    </tr>\n",
       "  </thead>\n",
       "  <tbody>\n",
       "    <tr>\n",
       "      <th>0</th>\n",
       "      <td>2008Details</td>\n",
       "      <td>NaN</td>\n",
       "      <td>Rajasthan Royals[50]164/7 (20 overs)</td>\n",
       "      <td>Won by 3 wickets(Scorecard)</td>\n",
       "      <td>NaN</td>\n",
       "      <td>Chennai Super Kings[50]163/5 (20 overs)</td>\n",
       "      <td>DY Patil Stadium, Navi Mumbai[50]</td>\n",
       "      <td>8[51]</td>\n",
       "      <td>Shane Watson(Rajasthan Royals)[50]</td>\n",
       "    </tr>\n",
       "    <tr>\n",
       "      <th>1</th>\n",
       "      <td>2009Details</td>\n",
       "      <td>NaN</td>\n",
       "      <td>Deccan Chargers[52]143/6 (20 overs)</td>\n",
       "      <td>Won by 6 runs(Scorecard)</td>\n",
       "      <td>NaN</td>\n",
       "      <td>Royal Challengers Bangalore[52]137/9 (20 overs)</td>\n",
       "      <td>Wanderers Stadium, Johannesburg[52](South Africa)</td>\n",
       "      <td>8[53]</td>\n",
       "      <td>Adam Gilchrist (Deccan Chargers)[52]</td>\n",
       "    </tr>\n",
       "    <tr>\n",
       "      <th>2</th>\n",
       "      <td>2010Details</td>\n",
       "      <td>NaN</td>\n",
       "      <td>Chennai Super Kings[54]168/5 (20 overs)</td>\n",
       "      <td>Won by 22 runs(Scorecard)</td>\n",
       "      <td>NaN</td>\n",
       "      <td>Mumbai Indians[54]146/9 (20 overs)</td>\n",
       "      <td>DY Patil Stadium, Navi Mumbai[54]</td>\n",
       "      <td>8[55]</td>\n",
       "      <td>Sachin Tendulkar (Mumbai Indians)[54]</td>\n",
       "    </tr>\n",
       "    <tr>\n",
       "      <th>3</th>\n",
       "      <td>2011Details</td>\n",
       "      <td>NaN</td>\n",
       "      <td>Chennai Super Kings[56]205/5 (20 overs)</td>\n",
       "      <td>Won by 58 runs(Scorecard)</td>\n",
       "      <td>NaN</td>\n",
       "      <td>Royal Challengers Bangalore[56]147/8 (20 overs)</td>\n",
       "      <td>M. A. Chidambaram Stadium, Chennai[56]</td>\n",
       "      <td>10[57]</td>\n",
       "      <td>Chris Gayle (Royal Challengers Bangalore)[56]</td>\n",
       "    </tr>\n",
       "    <tr>\n",
       "      <th>4</th>\n",
       "      <td>2012Details</td>\n",
       "      <td>NaN</td>\n",
       "      <td>Kolkata Knight Riders[58]192/5 (19.4 overs)</td>\n",
       "      <td>Won by 5 wickets(Scorecard)</td>\n",
       "      <td>NaN</td>\n",
       "      <td>Chennai Super Kings[58]190/3 (20 overs)</td>\n",
       "      <td>M. A. Chidambaram Stadium, Chennai[58]</td>\n",
       "      <td>9[59]</td>\n",
       "      <td>Sunil Narine(Kolkata Knight Riders)[58]</td>\n",
       "    </tr>\n",
       "  </tbody>\n",
       "</table>\n",
       "</div>"
      ],
      "text/plain": [
       "        Season  Final                                               \\\n",
       "        Season Winner                                     Winner.1   \n",
       "0  2008Details    NaN         Rajasthan Royals[50]164/7 (20 overs)   \n",
       "1  2009Details    NaN          Deccan Chargers[52]143/6 (20 overs)   \n",
       "2  2010Details    NaN      Chennai Super Kings[54]168/5 (20 overs)   \n",
       "3  2011Details    NaN      Chennai Super Kings[56]205/5 (20 overs)   \n",
       "4  2012Details    NaN  Kolkata Knight Riders[58]192/5 (19.4 overs)   \n",
       "\n",
       "                                          \\\n",
       "                Winning margin Runner-up   \n",
       "0  Won by 3 wickets(Scorecard)       NaN   \n",
       "1     Won by 6 runs(Scorecard)       NaN   \n",
       "2    Won by 22 runs(Scorecard)       NaN   \n",
       "3    Won by 58 runs(Scorecard)       NaN   \n",
       "4  Won by 5 wickets(Scorecard)       NaN   \n",
       "\n",
       "                                                    \\\n",
       "                                       Runner-up.1   \n",
       "0          Chennai Super Kings[50]163/5 (20 overs)   \n",
       "1  Royal Challengers Bangalore[52]137/9 (20 overs)   \n",
       "2               Mumbai Indians[54]146/9 (20 overs)   \n",
       "3  Royal Challengers Bangalore[56]147/8 (20 overs)   \n",
       "4          Chennai Super Kings[58]190/3 (20 overs)   \n",
       "\n",
       "                                         Final venue No. ofteams  \\\n",
       "                                         Final venue No. ofteams   \n",
       "0                  DY Patil Stadium, Navi Mumbai[50]       8[51]   \n",
       "1  Wanderers Stadium, Johannesburg[52](South Africa)       8[53]   \n",
       "2                  DY Patil Stadium, Navi Mumbai[54]       8[55]   \n",
       "3             M. A. Chidambaram Stadium, Chennai[56]      10[57]   \n",
       "4             M. A. Chidambaram Stadium, Chennai[58]       9[59]   \n",
       "\n",
       "                            Player of the series  \n",
       "                            Player of the series  \n",
       "0             Shane Watson(Rajasthan Royals)[50]  \n",
       "1           Adam Gilchrist (Deccan Chargers)[52]  \n",
       "2          Sachin Tendulkar (Mumbai Indians)[54]  \n",
       "3  Chris Gayle (Royal Challengers Bangalore)[56]  \n",
       "4        Sunil Narine(Kolkata Knight Riders)[58]  "
      ]
     },
     "execution_count": 408,
     "metadata": {},
     "output_type": "execute_result"
    }
   ],
   "source": [
    "season_table = html_soup.find_all('table', class_ = 'wikitable plainrowheaders') #finding 'table' tag with the class name\n",
    "\n",
    "df = pd.read_html(str(season_table)) #creating a dataframe out of the extracted table\n",
    "df = pd.DataFrame(df[0])\n",
    "\n",
    "df.head()"
   ]
  },
  {
   "cell_type": "code",
   "execution_count": 409,
   "id": "868a8d42",
   "metadata": {},
   "outputs": [
    {
     "data": {
      "text/plain": [
       "MultiIndex([(              'Season',               'Season'),\n",
       "            (               'Final',               'Winner'),\n",
       "            (               'Final',             'Winner.1'),\n",
       "            (               'Final',       'Winning margin'),\n",
       "            (               'Final',            'Runner-up'),\n",
       "            (               'Final',          'Runner-up.1'),\n",
       "            (         'Final venue',          'Final venue'),\n",
       "            (         'No. ofteams',          'No. ofteams'),\n",
       "            ('Player of the series', 'Player of the series')],\n",
       "           )"
      ]
     },
     "execution_count": 409,
     "metadata": {},
     "output_type": "execute_result"
    }
   ],
   "source": [
    "df.columns # We notice it's a muilti-index object"
   ]
  },
  {
   "cell_type": "code",
   "execution_count": 410,
   "id": "c9693f19",
   "metadata": {},
   "outputs": [],
   "source": [
    "df.columns = df.columns.get_level_values(1) #We select second tuple element as column names since it's multi-index"
   ]
  },
  {
   "cell_type": "code",
   "execution_count": 411,
   "id": "e2c65b95",
   "metadata": {},
   "outputs": [
    {
     "data": {
      "text/html": [
       "<div>\n",
       "<style scoped>\n",
       "    .dataframe tbody tr th:only-of-type {\n",
       "        vertical-align: middle;\n",
       "    }\n",
       "\n",
       "    .dataframe tbody tr th {\n",
       "        vertical-align: top;\n",
       "    }\n",
       "\n",
       "    .dataframe thead th {\n",
       "        text-align: right;\n",
       "    }\n",
       "</style>\n",
       "<table border=\"1\" class=\"dataframe\">\n",
       "  <thead>\n",
       "    <tr style=\"text-align: right;\">\n",
       "      <th></th>\n",
       "      <th>Season</th>\n",
       "      <th>Winner</th>\n",
       "      <th>Winner.1</th>\n",
       "      <th>Winning margin</th>\n",
       "      <th>Runner-up</th>\n",
       "      <th>Runner-up.1</th>\n",
       "      <th>Final venue</th>\n",
       "      <th>No. ofteams</th>\n",
       "      <th>Player of the series</th>\n",
       "    </tr>\n",
       "  </thead>\n",
       "  <tbody>\n",
       "    <tr>\n",
       "      <th>0</th>\n",
       "      <td>2008Details</td>\n",
       "      <td>NaN</td>\n",
       "      <td>Rajasthan Royals[50]164/7 (20 overs)</td>\n",
       "      <td>Won by 3 wickets(Scorecard)</td>\n",
       "      <td>NaN</td>\n",
       "      <td>Chennai Super Kings[50]163/5 (20 overs)</td>\n",
       "      <td>DY Patil Stadium, Navi Mumbai[50]</td>\n",
       "      <td>8[51]</td>\n",
       "      <td>Shane Watson(Rajasthan Royals)[50]</td>\n",
       "    </tr>\n",
       "    <tr>\n",
       "      <th>1</th>\n",
       "      <td>2009Details</td>\n",
       "      <td>NaN</td>\n",
       "      <td>Deccan Chargers[52]143/6 (20 overs)</td>\n",
       "      <td>Won by 6 runs(Scorecard)</td>\n",
       "      <td>NaN</td>\n",
       "      <td>Royal Challengers Bangalore[52]137/9 (20 overs)</td>\n",
       "      <td>Wanderers Stadium, Johannesburg[52](South Africa)</td>\n",
       "      <td>8[53]</td>\n",
       "      <td>Adam Gilchrist (Deccan Chargers)[52]</td>\n",
       "    </tr>\n",
       "    <tr>\n",
       "      <th>2</th>\n",
       "      <td>2010Details</td>\n",
       "      <td>NaN</td>\n",
       "      <td>Chennai Super Kings[54]168/5 (20 overs)</td>\n",
       "      <td>Won by 22 runs(Scorecard)</td>\n",
       "      <td>NaN</td>\n",
       "      <td>Mumbai Indians[54]146/9 (20 overs)</td>\n",
       "      <td>DY Patil Stadium, Navi Mumbai[54]</td>\n",
       "      <td>8[55]</td>\n",
       "      <td>Sachin Tendulkar (Mumbai Indians)[54]</td>\n",
       "    </tr>\n",
       "    <tr>\n",
       "      <th>3</th>\n",
       "      <td>2011Details</td>\n",
       "      <td>NaN</td>\n",
       "      <td>Chennai Super Kings[56]205/5 (20 overs)</td>\n",
       "      <td>Won by 58 runs(Scorecard)</td>\n",
       "      <td>NaN</td>\n",
       "      <td>Royal Challengers Bangalore[56]147/8 (20 overs)</td>\n",
       "      <td>M. A. Chidambaram Stadium, Chennai[56]</td>\n",
       "      <td>10[57]</td>\n",
       "      <td>Chris Gayle (Royal Challengers Bangalore)[56]</td>\n",
       "    </tr>\n",
       "    <tr>\n",
       "      <th>4</th>\n",
       "      <td>2012Details</td>\n",
       "      <td>NaN</td>\n",
       "      <td>Kolkata Knight Riders[58]192/5 (19.4 overs)</td>\n",
       "      <td>Won by 5 wickets(Scorecard)</td>\n",
       "      <td>NaN</td>\n",
       "      <td>Chennai Super Kings[58]190/3 (20 overs)</td>\n",
       "      <td>M. A. Chidambaram Stadium, Chennai[58]</td>\n",
       "      <td>9[59]</td>\n",
       "      <td>Sunil Narine(Kolkata Knight Riders)[58]</td>\n",
       "    </tr>\n",
       "  </tbody>\n",
       "</table>\n",
       "</div>"
      ],
      "text/plain": [
       "        Season  Winner                                     Winner.1  \\\n",
       "0  2008Details     NaN         Rajasthan Royals[50]164/7 (20 overs)   \n",
       "1  2009Details     NaN          Deccan Chargers[52]143/6 (20 overs)   \n",
       "2  2010Details     NaN      Chennai Super Kings[54]168/5 (20 overs)   \n",
       "3  2011Details     NaN      Chennai Super Kings[56]205/5 (20 overs)   \n",
       "4  2012Details     NaN  Kolkata Knight Riders[58]192/5 (19.4 overs)   \n",
       "\n",
       "                Winning margin  Runner-up  \\\n",
       "0  Won by 3 wickets(Scorecard)        NaN   \n",
       "1     Won by 6 runs(Scorecard)        NaN   \n",
       "2    Won by 22 runs(Scorecard)        NaN   \n",
       "3    Won by 58 runs(Scorecard)        NaN   \n",
       "4  Won by 5 wickets(Scorecard)        NaN   \n",
       "\n",
       "                                       Runner-up.1  \\\n",
       "0          Chennai Super Kings[50]163/5 (20 overs)   \n",
       "1  Royal Challengers Bangalore[52]137/9 (20 overs)   \n",
       "2               Mumbai Indians[54]146/9 (20 overs)   \n",
       "3  Royal Challengers Bangalore[56]147/8 (20 overs)   \n",
       "4          Chennai Super Kings[58]190/3 (20 overs)   \n",
       "\n",
       "                                         Final venue No. ofteams  \\\n",
       "0                  DY Patil Stadium, Navi Mumbai[50]       8[51]   \n",
       "1  Wanderers Stadium, Johannesburg[52](South Africa)       8[53]   \n",
       "2                  DY Patil Stadium, Navi Mumbai[54]       8[55]   \n",
       "3             M. A. Chidambaram Stadium, Chennai[56]      10[57]   \n",
       "4             M. A. Chidambaram Stadium, Chennai[58]       9[59]   \n",
       "\n",
       "                            Player of the series  \n",
       "0             Shane Watson(Rajasthan Royals)[50]  \n",
       "1           Adam Gilchrist (Deccan Chargers)[52]  \n",
       "2          Sachin Tendulkar (Mumbai Indians)[54]  \n",
       "3  Chris Gayle (Royal Challengers Bangalore)[56]  \n",
       "4        Sunil Narine(Kolkata Knight Riders)[58]  "
      ]
     },
     "execution_count": 411,
     "metadata": {},
     "output_type": "execute_result"
    }
   ],
   "source": [
    "df.head()"
   ]
  },
  {
   "cell_type": "code",
   "execution_count": 412,
   "id": "f882ee94",
   "metadata": {},
   "outputs": [
    {
     "data": {
      "text/html": [
       "<div>\n",
       "<style scoped>\n",
       "    .dataframe tbody tr th:only-of-type {\n",
       "        vertical-align: middle;\n",
       "    }\n",
       "\n",
       "    .dataframe tbody tr th {\n",
       "        vertical-align: top;\n",
       "    }\n",
       "\n",
       "    .dataframe thead th {\n",
       "        text-align: right;\n",
       "    }\n",
       "</style>\n",
       "<table border=\"1\" class=\"dataframe\">\n",
       "  <thead>\n",
       "    <tr style=\"text-align: right;\">\n",
       "      <th></th>\n",
       "      <th>Season</th>\n",
       "      <th>Winner</th>\n",
       "      <th>Runner-up</th>\n",
       "    </tr>\n",
       "  </thead>\n",
       "  <tbody>\n",
       "    <tr>\n",
       "      <th>0</th>\n",
       "      <td>2008Details</td>\n",
       "      <td>Rajasthan Royals[50]164/7 (20 overs)</td>\n",
       "      <td>Chennai Super Kings[50]163/5 (20 overs)</td>\n",
       "    </tr>\n",
       "    <tr>\n",
       "      <th>1</th>\n",
       "      <td>2009Details</td>\n",
       "      <td>Deccan Chargers[52]143/6 (20 overs)</td>\n",
       "      <td>Royal Challengers Bangalore[52]137/9 (20 overs)</td>\n",
       "    </tr>\n",
       "    <tr>\n",
       "      <th>2</th>\n",
       "      <td>2010Details</td>\n",
       "      <td>Chennai Super Kings[54]168/5 (20 overs)</td>\n",
       "      <td>Mumbai Indians[54]146/9 (20 overs)</td>\n",
       "    </tr>\n",
       "    <tr>\n",
       "      <th>3</th>\n",
       "      <td>2011Details</td>\n",
       "      <td>Chennai Super Kings[56]205/5 (20 overs)</td>\n",
       "      <td>Royal Challengers Bangalore[56]147/8 (20 overs)</td>\n",
       "    </tr>\n",
       "    <tr>\n",
       "      <th>4</th>\n",
       "      <td>2012Details</td>\n",
       "      <td>Kolkata Knight Riders[58]192/5 (19.4 overs)</td>\n",
       "      <td>Chennai Super Kings[58]190/3 (20 overs)</td>\n",
       "    </tr>\n",
       "  </tbody>\n",
       "</table>\n",
       "</div>"
      ],
      "text/plain": [
       "        Season                                       Winner  \\\n",
       "0  2008Details         Rajasthan Royals[50]164/7 (20 overs)   \n",
       "1  2009Details          Deccan Chargers[52]143/6 (20 overs)   \n",
       "2  2010Details      Chennai Super Kings[54]168/5 (20 overs)   \n",
       "3  2011Details      Chennai Super Kings[56]205/5 (20 overs)   \n",
       "4  2012Details  Kolkata Knight Riders[58]192/5 (19.4 overs)   \n",
       "\n",
       "                                         Runner-up  \n",
       "0          Chennai Super Kings[50]163/5 (20 overs)  \n",
       "1  Royal Challengers Bangalore[52]137/9 (20 overs)  \n",
       "2               Mumbai Indians[54]146/9 (20 overs)  \n",
       "3  Royal Challengers Bangalore[56]147/8 (20 overs)  \n",
       "4          Chennai Super Kings[58]190/3 (20 overs)  "
      ]
     },
     "execution_count": 412,
     "metadata": {},
     "output_type": "execute_result"
    }
   ],
   "source": [
    "df = df[['Season', 'Winner.1', 'Runner-up.1']].copy() #creating a new dataframe with our desired columns\n",
    "\n",
    "df = df.rename(columns = {'Winner.1':'Winner', 'Runner-up.1':'Runner-up'}) #renaming the columns\n",
    "\n",
    "df.head()"
   ]
  },
  {
   "cell_type": "markdown",
   "id": "3194139d",
   "metadata": {},
   "source": [
    "### Text Pre-processing"
   ]
  },
  {
   "cell_type": "code",
   "execution_count": 413,
   "id": "3f7c41ea",
   "metadata": {},
   "outputs": [],
   "source": [
    "df['Season'] = df['Season'].replace(r'\\D','', regex=True) #removes alphabetical characters from the column elements"
   ]
  },
  {
   "cell_type": "code",
   "execution_count": 414,
   "id": "8695fbfb",
   "metadata": {},
   "outputs": [],
   "source": [
    "def name_cleaner(team_name): #This method removes all the characters after '[' from a given string\n",
    "    idx = re.search('\\[.*', team_name).start()\n",
    "    return team_name[:idx]\n",
    "\n",
    "#Applying the above method to clean elements of 'Winner' & 'Runner-up' columns\n",
    "\n",
    "df['Winner'] = df['Winner'].apply(name_cleaner) \n",
    "df['Runner-up'] = df['Runner-up'].apply(name_cleaner)"
   ]
  },
  {
   "cell_type": "code",
   "execution_count": 415,
   "id": "77948c79",
   "metadata": {},
   "outputs": [
    {
     "data": {
      "text/html": [
       "<div>\n",
       "<style scoped>\n",
       "    .dataframe tbody tr th:only-of-type {\n",
       "        vertical-align: middle;\n",
       "    }\n",
       "\n",
       "    .dataframe tbody tr th {\n",
       "        vertical-align: top;\n",
       "    }\n",
       "\n",
       "    .dataframe thead th {\n",
       "        text-align: right;\n",
       "    }\n",
       "</style>\n",
       "<table border=\"1\" class=\"dataframe\">\n",
       "  <thead>\n",
       "    <tr style=\"text-align: right;\">\n",
       "      <th></th>\n",
       "      <th>Season</th>\n",
       "      <th>Winner</th>\n",
       "      <th>Runner-up</th>\n",
       "    </tr>\n",
       "  </thead>\n",
       "  <tbody>\n",
       "    <tr>\n",
       "      <th>0</th>\n",
       "      <td>2008</td>\n",
       "      <td>Rajasthan Royals</td>\n",
       "      <td>Chennai Super Kings</td>\n",
       "    </tr>\n",
       "    <tr>\n",
       "      <th>1</th>\n",
       "      <td>2009</td>\n",
       "      <td>Deccan Chargers</td>\n",
       "      <td>Royal Challengers Bangalore</td>\n",
       "    </tr>\n",
       "    <tr>\n",
       "      <th>2</th>\n",
       "      <td>2010</td>\n",
       "      <td>Chennai Super Kings</td>\n",
       "      <td>Mumbai Indians</td>\n",
       "    </tr>\n",
       "    <tr>\n",
       "      <th>3</th>\n",
       "      <td>2011</td>\n",
       "      <td>Chennai Super Kings</td>\n",
       "      <td>Royal Challengers Bangalore</td>\n",
       "    </tr>\n",
       "    <tr>\n",
       "      <th>4</th>\n",
       "      <td>2012</td>\n",
       "      <td>Kolkata Knight Riders</td>\n",
       "      <td>Chennai Super Kings</td>\n",
       "    </tr>\n",
       "    <tr>\n",
       "      <th>5</th>\n",
       "      <td>2013</td>\n",
       "      <td>Mumbai Indians</td>\n",
       "      <td>Chennai Super Kings</td>\n",
       "    </tr>\n",
       "    <tr>\n",
       "      <th>6</th>\n",
       "      <td>2014</td>\n",
       "      <td>Kolkata Knight Riders</td>\n",
       "      <td>Kings XI Punjab</td>\n",
       "    </tr>\n",
       "    <tr>\n",
       "      <th>7</th>\n",
       "      <td>2015</td>\n",
       "      <td>Mumbai Indians</td>\n",
       "      <td>Chennai Super Kings</td>\n",
       "    </tr>\n",
       "    <tr>\n",
       "      <th>8</th>\n",
       "      <td>2016</td>\n",
       "      <td>Sunrisers Hyderabad</td>\n",
       "      <td>Royal Challengers Bangalore</td>\n",
       "    </tr>\n",
       "    <tr>\n",
       "      <th>9</th>\n",
       "      <td>2017</td>\n",
       "      <td>Mumbai Indians</td>\n",
       "      <td>Rising Pune Supergiant</td>\n",
       "    </tr>\n",
       "    <tr>\n",
       "      <th>10</th>\n",
       "      <td>2018</td>\n",
       "      <td>Chennai Super Kings</td>\n",
       "      <td>Sunrisers Hyderabad178/6 (20 overs)</td>\n",
       "    </tr>\n",
       "    <tr>\n",
       "      <th>11</th>\n",
       "      <td>2019</td>\n",
       "      <td>Mumbai Indians</td>\n",
       "      <td>Chennai Super Kings</td>\n",
       "    </tr>\n",
       "    <tr>\n",
       "      <th>12</th>\n",
       "      <td>2020</td>\n",
       "      <td>Mumbai Indians</td>\n",
       "      <td>Delhi Capitals</td>\n",
       "    </tr>\n",
       "    <tr>\n",
       "      <th>13</th>\n",
       "      <td>2021</td>\n",
       "      <td>Chennai Super Kings</td>\n",
       "      <td>Kolkata Knight Riders</td>\n",
       "    </tr>\n",
       "  </tbody>\n",
       "</table>\n",
       "</div>"
      ],
      "text/plain": [
       "   Season                 Winner                            Runner-up\n",
       "0    2008       Rajasthan Royals                  Chennai Super Kings\n",
       "1    2009        Deccan Chargers          Royal Challengers Bangalore\n",
       "2    2010    Chennai Super Kings                       Mumbai Indians\n",
       "3    2011    Chennai Super Kings          Royal Challengers Bangalore\n",
       "4    2012  Kolkata Knight Riders                  Chennai Super Kings\n",
       "5    2013         Mumbai Indians                  Chennai Super Kings\n",
       "6    2014  Kolkata Knight Riders                      Kings XI Punjab\n",
       "7    2015         Mumbai Indians                  Chennai Super Kings\n",
       "8    2016    Sunrisers Hyderabad          Royal Challengers Bangalore\n",
       "9    2017         Mumbai Indians               Rising Pune Supergiant\n",
       "10   2018    Chennai Super Kings  Sunrisers Hyderabad178/6 (20 overs)\n",
       "11   2019         Mumbai Indians                  Chennai Super Kings\n",
       "12   2020         Mumbai Indians                       Delhi Capitals\n",
       "13   2021    Chennai Super Kings                Kolkata Knight Riders"
      ]
     },
     "execution_count": 415,
     "metadata": {},
     "output_type": "execute_result"
    }
   ],
   "source": [
    "df"
   ]
  },
  {
   "cell_type": "code",
   "execution_count": 416,
   "id": "d2e08110",
   "metadata": {},
   "outputs": [],
   "source": [
    "df.to_csv('IPL_Winning_Teams.csv', index = False) #Saving the table as csv file locally"
   ]
  },
  {
   "cell_type": "code",
   "execution_count": null,
   "id": "c2dcbf3c",
   "metadata": {},
   "outputs": [],
   "source": []
  }
 ],
 "metadata": {
  "kernelspec": {
   "display_name": "Python 3.8.8 64-bit ('base': conda)",
   "language": "python",
   "name": "python388jvsc74a57bd0cd78fef2128015050713e82ca51c6520b11aee7c9ee8df750520bbbc7384cbaa"
  },
  "language_info": {
   "codemirror_mode": {
    "name": "ipython",
    "version": 3
   },
   "file_extension": ".py",
   "mimetype": "text/x-python",
   "name": "python",
   "nbconvert_exporter": "python",
   "pygments_lexer": "ipython3",
   "version": "3.9.7"
  }
 },
 "nbformat": 4,
 "nbformat_minor": 5
}
