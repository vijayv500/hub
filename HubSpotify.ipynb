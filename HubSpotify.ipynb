{
 "cells": [
  {
   "cell_type": "markdown",
   "id": "f7458d1b",
   "metadata": {},
   "source": [
    "# HubSpotify App"
   ]
  },
  {
   "cell_type": "markdown",
   "id": "978ec41f",
   "metadata": {},
   "source": [
    "Using this HubSpotify app, a spotify user can display the list of his recently-played songs on Spotify. Authorisation should be provided when prompted.\n",
    "\n",
    "Limitation: A user cannot access others' recently-played songs."
   ]
  },
  {
   "cell_type": "code",
   "execution_count": 11,
   "id": "463e17d0",
   "metadata": {},
   "outputs": [],
   "source": [
    "import spotipy\n",
    "import spotipy.util as util\n",
    "import json\n",
    "import types\n",
    "\n",
    "\n",
    "def current_user_recently_played(self, limit=50):\n",
    "    return self._get('me/player/recently-played', limit=limit)\n",
    "\n",
    "\n",
    "token = util.prompt_for_user_token(\n",
    "        scope=\"user-read-recently-played\",\n",
    "        client_id=\"e608bb8fd3a7444c866078247a28beae\",\n",
    "        client_secret=\"8539af7ff7604a71b19b250c745e5215\",\n",
    "        redirect_uri=\"https://example.com/callback/\")"
   ]
  },
  {
   "cell_type": "code",
   "execution_count": 9,
   "id": "19923540",
   "metadata": {},
   "outputs": [
    {
     "data": {
      "text/plain": [
       "'BQANkw8dAYDzeysIM7HhQoF6qBQD0yAxDq4wjAh7qbiNxO64CKeuXNKj_w4Gw835LY-cVLQatr2xw4992yjx3pHHaBJZsDJ8tg9wLcBUK4HU3CfG-wYjpAJfC2qE4BVTBZ7VuSlMe37j83NvPCyVsfN7u4uBJyR1uG_LCX4bURVEv5TSNwnRAkE4GmXG3w'"
      ]
     },
     "execution_count": 9,
     "metadata": {},
     "output_type": "execute_result"
    }
   ],
   "source": [
    "token"
   ]
  },
  {
   "cell_type": "code",
   "execution_count": 14,
   "id": "6bece462",
   "metadata": {},
   "outputs": [],
   "source": [
    "spotify = spotipy.Spotify(auth=token)\n",
    "spotify.current_user_recently_played = types.MethodType(current_user_recently_played, spotify)\n",
    "\n",
    "recent = spotify.current_user_recently_played(limit=50) #A json output is generated"
   ]
  },
  {
   "cell_type": "code",
   "execution_count": 13,
   "id": "629cec61",
   "metadata": {},
   "outputs": [
    {
     "name": "stdout",
     "output_type": "stream",
     "text": [
      "Lil Nas X:INDUSTRY BABY (feat. Jack Harlow)\n",
      "Michael Bublé:It's Beginning to Look a Lot like Christmas\n",
      "Adele:Easy On Me\n",
      "Mariah Carey:All I Want for Christmas Is You\n"
     ]
    }
   ],
   "source": [
    "#Displaying recently-played songs\n",
    "\n",
    "for i in range(0, len(recent['items'])):\n",
    "    print(recent['items'][i]['track']['artists'][0]['name'] + ':' + recent['items'][i]['track']['name'])"
   ]
  },
  {
   "cell_type": "code",
   "execution_count": null,
   "id": "dcd2c8fe",
   "metadata": {},
   "outputs": [],
   "source": []
  }
 ],
 "metadata": {
  "kernelspec": {
   "display_name": "Python 3.8.8 64-bit ('base': conda)",
   "language": "python",
   "name": "python388jvsc74a57bd0cd78fef2128015050713e82ca51c6520b11aee7c9ee8df750520bbbc7384cbaa"
  },
  "language_info": {
   "codemirror_mode": {
    "name": "ipython",
    "version": 3
   },
   "file_extension": ".py",
   "mimetype": "text/x-python",
   "name": "python",
   "nbconvert_exporter": "python",
   "pygments_lexer": "ipython3",
   "version": "3.9.7"
  }
 },
 "nbformat": 4,
 "nbformat_minor": 5
}
